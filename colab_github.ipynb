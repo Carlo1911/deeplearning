{
  "nbformat": 4,
  "nbformat_minor": 0,
  "metadata": {
    "colab": {
      "name": "colab-github-demo.ipynb",
      "provenance": [],
      "collapsed_sections": []
    },
    "kernelspec": {
      "display_name": "Python 3",
      "name": "python3"
    }
  },
  "cells": [
    {
      "cell_type": "markdown",
      "metadata": {
        "colab_type": "text",
        "id": "-pVhOfzLx9us"
      },
      "source": [
        "# Transferencia de estilo focalizado\n",
        "\n"
      ]
    },
    {
      "cell_type": "markdown",
      "metadata": {
        "colab_type": "text",
        "id": "wKJ4bd5rt1wy"
      },
      "source": [
        "Código del proyecto de deeplearning.\n",
        "Este consiste de realizar la detección de instancias para luego aplicarle la trasferencia de estilo a este elemento detectado. Este seré aplicado a personas."
      ]
    }
  ]
}