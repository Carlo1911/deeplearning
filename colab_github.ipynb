{
  "nbformat": 4,
  "nbformat_minor": 0,
  "metadata": {
    "colab": {
      "name": "colab-github-demo.ipynb",
      "provenance": [],
      "collapsed_sections": []
    },
    "kernelspec": {
      "display_name": "Python 3",
      "name": "python3"
    }
  },
  "cells": [
    {
      "cell_type": "markdown",
      "metadata": {
        "colab_type": "text",
        "id": "-pVhOfzLx9us"
      },
      "source": [
        "# Transferencia de estilo focalizado\n",
        "\n"
      ]
    },
    {
      "cell_type": "markdown",
      "metadata": {
        "colab_type": "text",
        "id": "wKJ4bd5rt1wy"
      },
      "source": [
        "Código del proyecto de deeplearning.\n",
        "Este consiste de realizar la detección de instancias para luego aplicarle la trasferencia de estilo a este elemento detectado. Este seré aplicado a personas."
      ]
    },
    {
      "cell_type": "code",
      "metadata": {
        "id": "EK4YivDSgsST",
        "colab_type": "code",
        "colab": {}
      },
      "source": [
        "# Crear Red neuronal para detectar personas\n",
        "\n",
        "# Entrenar red neuronal para detectar personas\n",
        "\n",
        "# Validar el modelo con alguna imagen de personas\n",
        "\n",
        "# Borrar el fondo de la imagen, menos las personas detectadas\n",
        "\n",
        "# Crear red neuronal para la transferencia\n",
        "\n",
        "# Aplicar la transferencia de estilo a la foto imagen sin fondo para que se le aplique la trasnferencia\n",
        "\n",
        "# Sobreponer la foto con estilo sobre la imagen original para recuperar el fondo\n"
      ],
      "execution_count": null,
      "outputs": []
    }
  ]
}